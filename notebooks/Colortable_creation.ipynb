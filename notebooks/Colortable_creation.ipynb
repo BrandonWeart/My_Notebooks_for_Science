{
 "cells": [
  {
   "cell_type": "code",
   "execution_count": 4,
   "id": "53e28ad1-5c21-492b-93c0-b8af0190901f",
   "metadata": {},
   "outputs": [],
   "source": [
    "pal = 'enter_pal_file_name_here'"
   ]
  },
  {
   "cell_type": "code",
   "execution_count": 3,
   "id": "eec06990-b061-4786-a265-c8205786a8d8",
   "metadata": {},
   "outputs": [],
   "source": [
    "\"\"\"\n",
    "This script allows you to use .pal files to create new colormaps in python. All that is needed is the input file\n",
    "\n",
    "\"\"\"\n",
    "\n",
    "\n",
    "\n",
    "def read_pal(pal):\n",
    "    results = []\n",
    "    with open(pal, 'r') as file:\n",
    "        for line in file:\n",
    "            line = line.strip()\n",
    "            if not line or not line.startswith('SolidColor:'):\n",
    "                continue\n",
    "            tokens = line.split()\n",
    "            value_str = tokens[1]\n",
    "            r, g, b = int(tokens[2]), int(tokens[3]), int(tokens[4])\n",
    "            values = float(value_str)\n",
    "            hex_color = \"#{:02x}{:02x}{:02x}\".format(r,g,b)\n",
    "            results.append((values, r,g,b,hex_color))\n",
    "        hex_dict = {entry[0]: entry[4] for entry in results}\n",
    "        return hex_dict\n",
    "            \n",
    "def colortable_register(pal_file):\n",
    "    # Read the colormap dictionary from the .pal file\n",
    "    cmap_name = input(\"Choose a name for your colormap: \")\n",
    "    hex_dict = read_pal(pal_file)\n",
    "\n",
    "    # Normalize values between 0 and 1\n",
    "    min_val, max_val = min(hex_dict.keys()), max(hex_dict.keys())\n",
    "    normalized_colors = [(color, (val - min_val) / (max_val - min_val)) for val, color in hex_dict.items()]\n",
    "    \n",
    "    # Sort colors by normalized value\n",
    "    normalized_colors.sort(key=lambda x: x[1])\n",
    "\n",
    "    # Extract sorted hex colors\n",
    "    hex_colors = [color for color, _ in normalized_colors]\n",
    "\n",
    "    # Create colormap\n",
    "    colormap = mcolors.LinearSegmentedColormap.from_list(cmap_name, hex_colors)\n",
    "\n",
    "    # Register the colormap\n",
    "    plt.colormaps.register(cmap=colormap)"
   ]
  },
  {
   "cell_type": "code",
   "execution_count": null,
   "id": "1d6d1e29-72a7-46ba-a3de-d182a04dc489",
   "metadata": {},
   "outputs": [],
   "source": [
    "colortable_register(pal)\n"
   ]
  }
 ],
 "metadata": {
  "kernelspec": {
   "display_name": "Python 3 (ipykernel)",
   "language": "python",
   "name": "python3"
  },
  "language_info": {
   "codemirror_mode": {
    "name": "ipython",
    "version": 3
   },
   "file_extension": ".py",
   "mimetype": "text/x-python",
   "name": "python",
   "nbconvert_exporter": "python",
   "pygments_lexer": "ipython3",
   "version": "3.12.2"
  }
 },
 "nbformat": 4,
 "nbformat_minor": 5
}
